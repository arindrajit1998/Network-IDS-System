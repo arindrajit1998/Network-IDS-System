{
 "cells": [
  {
   "cell_type": "code",
   "execution_count": null,
   "id": "caf8dd96",
   "metadata": {},
   "outputs": [],
   "source": [
    "# importing required libraries\n",
    "import pandas as pd"
   ]
  },
  {
   "cell_type": "code",
   "execution_count": 53,
   "id": "68b3f6fc",
   "metadata": {},
   "outputs": [
    {
     "name": "stdout",
     "output_type": "stream",
     "text": [
      "Data loaded successfully! Ready for model prototyping.\n"
     ]
    }
   ],
   "source": [
    "# Load preprocessed data\n",
    "train_df = pd.read_csv(r\"C:\\Users\\arind\\OneDrive\\Desktop\\Network IDS\\data\\processed\\train_df_processed.csv\")\n",
    "test_df = pd.read_csv(r\"C:\\Users\\arind\\OneDrive\\Desktop\\Network IDS\\data\\processed\\test_df_processed.csv\")\n",
    "\n",
    "print(\"Data loaded successfully! Ready for model prototyping.\")"
   ]
  },
  {
   "cell_type": "code",
   "execution_count": 77,
   "id": "d5f455bb",
   "metadata": {},
   "outputs": [
    {
     "data": {
      "text/html": [
       "<div>\n",
       "<style scoped>\n",
       "    .dataframe tbody tr th:only-of-type {\n",
       "        vertical-align: middle;\n",
       "    }\n",
       "\n",
       "    .dataframe tbody tr th {\n",
       "        vertical-align: top;\n",
       "    }\n",
       "\n",
       "    .dataframe thead th {\n",
       "        text-align: right;\n",
       "    }\n",
       "</style>\n",
       "<table border=\"1\" class=\"dataframe\">\n",
       "  <thead>\n",
       "    <tr style=\"text-align: right;\">\n",
       "      <th></th>\n",
       "      <th>sport</th>\n",
       "      <th>dsport</th>\n",
       "      <th>proto</th>\n",
       "      <th>state</th>\n",
       "      <th>dur</th>\n",
       "      <th>sbytes</th>\n",
       "      <th>dbytes</th>\n",
       "      <th>sttl</th>\n",
       "      <th>dttl</th>\n",
       "      <th>sloss</th>\n",
       "      <th>...</th>\n",
       "      <th>ct_srv_src</th>\n",
       "      <th>ct_srv_dst</th>\n",
       "      <th>ct_dst_ltm</th>\n",
       "      <th>ct_src_ ltm</th>\n",
       "      <th>ct_src_dport_ltm</th>\n",
       "      <th>ct_dst_sport_ltm</th>\n",
       "      <th>ct_dst_src_ltm</th>\n",
       "      <th>label</th>\n",
       "      <th>attack_cat_encoded</th>\n",
       "      <th>destination_port_category</th>\n",
       "    </tr>\n",
       "  </thead>\n",
       "  <tbody>\n",
       "    <tr>\n",
       "      <th>0</th>\n",
       "      <td>57672</td>\n",
       "      <td>3260</td>\n",
       "      <td>114</td>\n",
       "      <td>2</td>\n",
       "      <td>0.285356</td>\n",
       "      <td>986</td>\n",
       "      <td>86</td>\n",
       "      <td>62</td>\n",
       "      <td>252</td>\n",
       "      <td>2</td>\n",
       "      <td>...</td>\n",
       "      <td>10</td>\n",
       "      <td>8</td>\n",
       "      <td>4</td>\n",
       "      <td>5</td>\n",
       "      <td>3</td>\n",
       "      <td>1</td>\n",
       "      <td>7</td>\n",
       "      <td>0</td>\n",
       "      <td>6</td>\n",
       "      <td>29</td>\n",
       "    </tr>\n",
       "    <tr>\n",
       "      <th>1</th>\n",
       "      <td>38052</td>\n",
       "      <td>6881</td>\n",
       "      <td>114</td>\n",
       "      <td>5</td>\n",
       "      <td>0.314311</td>\n",
       "      <td>1540</td>\n",
       "      <td>1644</td>\n",
       "      <td>31</td>\n",
       "      <td>29</td>\n",
       "      <td>4</td>\n",
       "      <td>...</td>\n",
       "      <td>14</td>\n",
       "      <td>6</td>\n",
       "      <td>8</td>\n",
       "      <td>12</td>\n",
       "      <td>5</td>\n",
       "      <td>1</td>\n",
       "      <td>6</td>\n",
       "      <td>0</td>\n",
       "      <td>6</td>\n",
       "      <td>29</td>\n",
       "    </tr>\n",
       "    <tr>\n",
       "      <th>2</th>\n",
       "      <td>42911</td>\n",
       "      <td>38558</td>\n",
       "      <td>120</td>\n",
       "      <td>2</td>\n",
       "      <td>0.301180</td>\n",
       "      <td>536</td>\n",
       "      <td>304</td>\n",
       "      <td>31</td>\n",
       "      <td>29</td>\n",
       "      <td>0</td>\n",
       "      <td>...</td>\n",
       "      <td>9</td>\n",
       "      <td>16</td>\n",
       "      <td>7</td>\n",
       "      <td>6</td>\n",
       "      <td>1</td>\n",
       "      <td>1</td>\n",
       "      <td>3</td>\n",
       "      <td>0</td>\n",
       "      <td>6</td>\n",
       "      <td>29</td>\n",
       "    </tr>\n",
       "    <tr>\n",
       "      <th>3</th>\n",
       "      <td>47439</td>\n",
       "      <td>53</td>\n",
       "      <td>120</td>\n",
       "      <td>6</td>\n",
       "      <td>0.000009</td>\n",
       "      <td>114</td>\n",
       "      <td>0</td>\n",
       "      <td>254</td>\n",
       "      <td>0</td>\n",
       "      <td>0</td>\n",
       "      <td>...</td>\n",
       "      <td>33</td>\n",
       "      <td>33</td>\n",
       "      <td>17</td>\n",
       "      <td>17</td>\n",
       "      <td>17</td>\n",
       "      <td>17</td>\n",
       "      <td>33</td>\n",
       "      <td>1</td>\n",
       "      <td>5</td>\n",
       "      <td>3</td>\n",
       "    </tr>\n",
       "    <tr>\n",
       "      <th>4</th>\n",
       "      <td>61544</td>\n",
       "      <td>53</td>\n",
       "      <td>120</td>\n",
       "      <td>2</td>\n",
       "      <td>0.001079</td>\n",
       "      <td>146</td>\n",
       "      <td>178</td>\n",
       "      <td>31</td>\n",
       "      <td>29</td>\n",
       "      <td>0</td>\n",
       "      <td>...</td>\n",
       "      <td>2</td>\n",
       "      <td>2</td>\n",
       "      <td>5</td>\n",
       "      <td>4</td>\n",
       "      <td>1</td>\n",
       "      <td>1</td>\n",
       "      <td>1</td>\n",
       "      <td>0</td>\n",
       "      <td>6</td>\n",
       "      <td>3</td>\n",
       "    </tr>\n",
       "  </tbody>\n",
       "</table>\n",
       "<p>5 rows × 48 columns</p>\n",
       "</div>"
      ],
      "text/plain": [
       "   sport  dsport  proto  state       dur  sbytes  dbytes  sttl  dttl  sloss  \\\n",
       "0  57672    3260    114      2  0.285356     986      86    62   252      2   \n",
       "1  38052    6881    114      5  0.314311    1540    1644    31    29      4   \n",
       "2  42911   38558    120      2  0.301180     536     304    31    29      0   \n",
       "3  47439      53    120      6  0.000009     114       0   254     0      0   \n",
       "4  61544      53    120      2  0.001079     146     178    31    29      0   \n",
       "\n",
       "   ...  ct_srv_src  ct_srv_dst  ct_dst_ltm  ct_src_ ltm  ct_src_dport_ltm  \\\n",
       "0  ...          10           8           4            5                 3   \n",
       "1  ...          14           6           8           12                 5   \n",
       "2  ...           9          16           7            6                 1   \n",
       "3  ...          33          33          17           17                17   \n",
       "4  ...           2           2           5            4                 1   \n",
       "\n",
       "   ct_dst_sport_ltm  ct_dst_src_ltm  label  attack_cat_encoded  \\\n",
       "0                 1               7      0                   6   \n",
       "1                 1               6      0                   6   \n",
       "2                 1               3      0                   6   \n",
       "3                17              33      1                   5   \n",
       "4                 1               1      0                   6   \n",
       "\n",
       "   destination_port_category  \n",
       "0                         29  \n",
       "1                         29  \n",
       "2                         29  \n",
       "3                          3  \n",
       "4                          3  \n",
       "\n",
       "[5 rows x 48 columns]"
      ]
     },
     "execution_count": 77,
     "metadata": {},
     "output_type": "execute_result"
    }
   ],
   "source": [
    "train_df.head()"
   ]
  },
  {
   "cell_type": "code",
   "execution_count": 54,
   "id": "7e8b285b",
   "metadata": {},
   "outputs": [],
   "source": [
    "train_df.columns = train_df.columns.str.lower().str.strip()\n",
    "test_df.columns = test_df.columns.str.lower().str.strip()"
   ]
  },
  {
   "cell_type": "code",
   "execution_count": 55,
   "id": "56e70d01",
   "metadata": {},
   "outputs": [],
   "source": [
    "test_df = test_df.rename(columns={\n",
    "    \"spkts\": \"spkts\",\n",
    "    \"response_body_len\": \"res_bdy_len\",\n",
    "    \"ct_src_ltm\": \"ct_src_ ltm\",\n",
    "    \"label\": \"label\",\n",
    "    \"Sload\": \"sload\",\n",
    "    \"Dload\": \"dload\",\n",
    "    \"dinpkt\": \"dintpkt\",\n",
    "    \"sinpkt\": \"sintpkt\"\n",
    "})"
   ]
  },
  {
   "cell_type": "markdown",
   "id": "7a3649f5",
   "metadata": {},
   "source": [
    "Feature analyzed by correlation"
   ]
  },
  {
   "cell_type": "code",
   "execution_count": 56,
   "id": "a4179c3d",
   "metadata": {},
   "outputs": [],
   "source": [
    "x_train_corr = train_df[['ct_state_ttl', 'dttl', 'sttl', 'state', 'service', 'sbytes', 'tcprtt',\n",
    "              'dwin', 'ct_srv_dst', 'swin', 'dmeansz', 'is_sm_ips_ports', 'dbytes', 'smeansz', 'dloss', 'sloss', 'dpkts',\n",
    "              'trans_depth', 'is_ftp_login','djit','sjit','proto']]\n",
    "y_train_corr = train_df[\"attack_cat_encoded\"]\n",
    "\n",
    "x_test_corr = test_df[['ct_state_ttl', 'dttl', 'sttl', 'state', 'service', 'sbytes', 'tcprtt', 'dwin',\n",
    "                  'ct_srv_dst', 'swin', 'dmeansz', 'is_sm_ips_ports', 'dbytes', 'smeansz', 'dloss', 'sloss', 'dpkts',\n",
    "                  'trans_depth', 'is_ftp_login','djit','sjit','proto']]\n",
    "y_test_corr = test_df[\"attack_cat_encoded\"]"
   ]
  },
  {
   "cell_type": "markdown",
   "id": "7aad8901",
   "metadata": {},
   "source": [
    "Feature analyzed by MI Score"
   ]
  },
  {
   "cell_type": "code",
   "execution_count": 59,
   "id": "3c6835e2",
   "metadata": {},
   "outputs": [],
   "source": [
    "features_MI = ['ltime','stime','dsport','dbytes','sbytes','dmeansz','ct_state_ttl',\n",
    "               'sttl','dpkts','dttl','smeansz','sload','spkts','dload','dintpkt','synack',\n",
    "               'tcprtt','dur','ackdat','dloss','state','sintpkt','sloss',\n",
    "               'sjit','ct_srv_dst','ct_dst_sport_ltm']\n",
    "# Removing ['ltime', 'stime', 'dsport'] columns because they are not in test set\n",
    "features_MI = [feature for feature in features_MI if feature not in ['ltime', 'stime', 'dsport']]\n",
    "\n",
    "x_train_mi = train_df[features_MI]\n",
    "y_train_mi = train_df[\"attack_cat_encoded\"]\n",
    "\n",
    "x_test_mi = test_df[features_MI]\n",
    "y_test_mi = test_df[\"attack_cat_encoded\"]"
   ]
  },
  {
   "cell_type": "markdown",
   "id": "7671f84f",
   "metadata": {},
   "source": [
    "Features analyzed by chi-sq test"
   ]
  },
  {
   "cell_type": "code",
   "execution_count": 61,
   "id": "924162b9",
   "metadata": {},
   "outputs": [],
   "source": [
    "features_Chi2 = ['ct_state_ttl','sttl','dttl','ct_dst_sport_ltm','ct_dst_src_ltm','ct_src_dport_ltm',\n",
    "                 'ackdat','ct_srv_dst','ltime','stime','tcprtt','ct_srv_src','sload','synack','dsport',\n",
    "                 'swin','dwin','dload','dmeansz','ct_dst_ltm','ct_src_ ltm',\n",
    "                 'dtcpb','stcpb','trans_depth','smeansz','service','state']\n",
    "# Removing ['ltime', 'stime', 'dsport'] columns because they are not in test set\n",
    "features_Chi2 = [feature for feature in features_Chi2 if feature not in ['ltime', 'stime', 'dsport']]\n",
    "\n",
    "x_train_chi = train_df[features_Chi2]\n",
    "y_train_chi = train_df[\"attack_cat_encoded\"]\n",
    "\n",
    "x_test_chi = test_df[features_Chi2]\n",
    "y_test_chi = test_df[\"attack_cat_encoded\"]"
   ]
  },
  {
   "cell_type": "markdown",
   "id": "73e9f0ee",
   "metadata": {},
   "source": [
    "Features analyzed by ANOVA"
   ]
  },
  {
   "cell_type": "code",
   "execution_count": 73,
   "id": "b3db4b32",
   "metadata": {},
   "outputs": [],
   "source": [
    "features_ANOVA = ['sttl','ct_state_ttl','dttl','ct_dst_sport_ltm','ct_dst_src_ltm','ct_src_dport_ltm',\n",
    "                  'ct_srv_dst','ct_srv_src','tcprtt','ackdat','ct_dst_ltm','synack','sload','ct_src_ ltm',\n",
    "                  'state','swin','dwin','dmeansz','ltime','stime','proto','service',\n",
    "                  'dsport','dload','dtcpb','smeansz','stcpb','trans_depth']\n",
    "# Removing ['ltime', 'stime', 'dsport'] columns because they are not in test set\n",
    "features_ANOVA = [feature for feature in features_ANOVA if feature not in ['ltime', 'stime', 'dsport']]\n",
    "\n",
    "x_train_anova = train_df[features_ANOVA]\n",
    "y_train_anova = train_df[\"attack_cat_encoded\"]\n",
    "\n",
    "x_test_anova = test_df[features_ANOVA]\n",
    "y_test_anova = test_df[\"attack_cat_encoded\"]"
   ]
  },
  {
   "cell_type": "markdown",
   "id": "e2698c87",
   "metadata": {},
   "source": [
    "Using all possible features"
   ]
  },
  {
   "cell_type": "code",
   "execution_count": 63,
   "id": "2b2eeb0c",
   "metadata": {},
   "outputs": [],
   "source": [
    "features_ALL = ['dur', 'proto', 'service', 'state', 'spkts', 'dpkts', 'sbytes',\n",
    "       'dbytes', 'sttl', 'dttl', 'sload', 'dload', 'sloss', 'dloss',\n",
    "       'sintpkt', 'dintpkt', 'sjit', 'djit', 'swin', 'stcpb', 'dtcpb', 'dwin',\n",
    "       'tcprtt', 'synack', 'ackdat', 'smeansz', 'dmeansz', 'trans_depth',\n",
    "       'res_bdy_len', 'ct_srv_src', 'ct_state_ttl', 'ct_dst_ltm',\n",
    "       'ct_src_dport_ltm', 'ct_dst_sport_ltm', 'ct_dst_src_ltm',\n",
    "       'is_ftp_login', 'ct_ftp_cmd', 'ct_flw_http_mthd', 'ct_src_ ltm',\n",
    "       'ct_srv_dst', 'is_sm_ips_ports']\n",
    "\n",
    "x_train_all = train_df[features_ALL]\n",
    "y_train_all = train_df[\"attack_cat_encoded\"]\n",
    "\n",
    "x_test_all = test_df[features_ALL]\n",
    "y_test_all = test_df[\"attack_cat_encoded\"]"
   ]
  },
  {
   "cell_type": "code",
   "execution_count": 66,
   "id": "7c0bbd9c",
   "metadata": {},
   "outputs": [],
   "source": [
    "from xgboost_model import run_xgb_and_evaluate"
   ]
  },
  {
   "cell_type": "code",
   "execution_count": null,
   "id": "ce2d6024",
   "metadata": {},
   "outputs": [],
   "source": [
    "summary_corr = run_xgb_and_evaluate(x_train_corr, x_test_corr, y_train_corr, y_test_corr)\n",
    "summary_mi = run_xgb_and_evaluate(x_train_mi, x_test_mi, y_train_mi, y_test_mi)\n",
    "summary_chisq = run_xgb_and_evaluate(x_train_chi, x_test_chi, y_train_chi, y_test_chi)\n",
    "summary_anova = run_xgb_and_evaluate(x_train_anova, x_test_anova, y_train_anova, y_test_anova)\n",
    "summary_all = run_xgb_and_evaluate(x_train_all, x_test_all, y_train_all, y_test_all)"
   ]
  },
  {
   "cell_type": "code",
   "execution_count": 76,
   "id": "f9a3546a",
   "metadata": {},
   "outputs": [
    {
     "name": "stdout",
     "output_type": "stream",
     "text": [
      "For features analyzed by correlation: \n",
      "     Model  Accuracy  Precision   Recall  F1 Score\n",
      "0  XGBoost   0.84469   0.864351  0.84469  0.849231\n",
      " \n",
      "For features analyzed by mutual information: \n",
      "     Model  Accuracy  Precision    Recall  F1 Score\n",
      "0  XGBoost  0.857564   0.865313  0.857564  0.857818\n",
      " \n",
      "For features analyzed by chi-squared: \n",
      "     Model  Accuracy  Precision    Recall  F1 Score\n",
      "0  XGBoost  0.867002   0.881729  0.867002  0.869144\n",
      " \n",
      "For features analyzed by ANOVA: \n",
      "     Model  Accuracy  Precision    Recall  F1 Score\n",
      "0  XGBoost  0.866613   0.879188  0.866613  0.869647\n",
      " \n",
      "For all features: \n",
      "     Model  Accuracy  Precision    Recall  F1 Score\n",
      "0  XGBoost  0.873014   0.887402  0.873014  0.877244\n"
     ]
    }
   ],
   "source": [
    "print(\"For features analyzed by correlation: \")\n",
    "print(summary_corr)\n",
    "print(\" \")\n",
    "\n",
    "\n",
    "print(\"For features analyzed by mutual information: \")\n",
    "print(summary_mi)\n",
    "print(\" \")\n",
    "\n",
    "\n",
    "print(\"For features analyzed by chi-squared: \")\n",
    "print(summary_chisq)\n",
    "print(\" \")\n",
    "\n",
    "\n",
    "print(\"For features analyzed by ANOVA: \")\n",
    "print(summary_anova)\n",
    "print(\" \")\n",
    "\n",
    "\n",
    "print(\"For all features: \")\n",
    "print(summary_all)"
   ]
  }
 ],
 "metadata": {
  "kernelspec": {
   "display_name": "network-ids_env",
   "language": "python",
   "name": "python3"
  },
  "language_info": {
   "codemirror_mode": {
    "name": "ipython",
    "version": 3
   },
   "file_extension": ".py",
   "mimetype": "text/x-python",
   "name": "python",
   "nbconvert_exporter": "python",
   "pygments_lexer": "ipython3",
   "version": "3.11.9"
  }
 },
 "nbformat": 4,
 "nbformat_minor": 5
}
