{
 "cells": [
  {
   "cell_type": "code",
   "execution_count": null,
   "id": "a868743f",
   "metadata": {},
   "outputs": [],
   "source": [
    "# importing required libraries\n",
    "import numpy as np\n",
    "import pandas as pd\n",
    "\n",
    "import joblib\n",
    "from sklearn.impute import KNNImputer\n",
    "from sklearn.preprocessing import LabelEncoder"
   ]
  },
  {
   "cell_type": "code",
   "execution_count": 2,
   "id": "810f5b0a",
   "metadata": {},
   "outputs": [],
   "source": [
    "test_df=pd.read_csv(r\"C:\\Users\\arind\\OneDrive\\Desktop\\Test NIDS\\Training and Testing Sets\\UNSW_NB15_testing-set.csv\")"
   ]
  },
  {
   "cell_type": "code",
   "execution_count": 3,
   "id": "d67d848c",
   "metadata": {},
   "outputs": [],
   "source": [
    "test_df.duplicated().sum()\n",
    "test_df.drop_duplicates(inplace=True)"
   ]
  },
  {
   "cell_type": "code",
   "execution_count": 4,
   "id": "8668d1cc",
   "metadata": {},
   "outputs": [
    {
     "name": "stdout",
     "output_type": "stream",
     "text": [
      "There are 41 Numerical Columns in dataset\n",
      "There are 4 Categorical Columns in dataset\n"
     ]
    }
   ],
   "source": [
    "# Identify the data types of columns\n",
    "column_data_types = test_df.dtypes\n",
    "\n",
    "# Count the numerical and categorical columns\n",
    "numerical_count = 0\n",
    "categorical_count = 0\n",
    "\n",
    "for column_name, data_type in column_data_types.items():\n",
    "    if np.issubdtype(data_type, np.number):\n",
    "        numerical_count += 1\n",
    "    else:\n",
    "        categorical_count += 1\n",
    "\n",
    "print(f\"There are {numerical_count} Numerical Columns in dataset\")\n",
    "print(f\"There are {categorical_count} Categorical Columns in dataset\")"
   ]
  },
  {
   "cell_type": "code",
   "execution_count": 5,
   "id": "a624e22e",
   "metadata": {},
   "outputs": [
    {
     "name": "stdout",
     "output_type": "stream",
     "text": [
      "Index(['id', 'dur', 'proto', 'service', 'state', 'spkts', 'Dpkts', 'sbytes',\n",
      "       'dbytes', 'rate', 'sttl', 'dttl', 'sload', 'dload', 'sloss', 'dloss',\n",
      "       'sinpkt', 'dinpkt', 'Sjit', 'Djit', 'swin', 'stcpb', 'dtcpb', 'dwin',\n",
      "       'tcprtt', 'synack', 'ackdat', 'smeansz', 'dmeansz', 'trans_depth',\n",
      "       'response_body_len', 'ct_srv_src', 'ct_state_ttl', 'ct_dst_ltm',\n",
      "       'ct_src_dport_ltm', 'ct_dst_sport_ltm', 'ct_dst_src_ltm',\n",
      "       'is_ftp_login', 'ct_ftp_cmd', 'ct_flw_http_mthd', 'ct_src_ltm',\n",
      "       'ct_srv_dst', 'is_sm_ips_ports', 'attack_cat', 'label'],\n",
      "      dtype='object')\n"
     ]
    }
   ],
   "source": [
    "# Rename columns in test_df as per train dataset\n",
    "test_df = test_df.rename(columns={\n",
    "    'smean': 'smeansz',\n",
    "    'dmean': 'dmeansz',\n",
    "    'dpkts': 'Dpkts',\n",
    "    'sjit': 'Sjit',\n",
    "    'djit': 'Djit'\n",
    "})\n",
    "\n",
    "# Verify\n",
    "print(test_df.columns)"
   ]
  },
  {
   "cell_type": "code",
   "execution_count": null,
   "id": "5e5aa2d8",
   "metadata": {},
   "outputs": [],
   "source": [
    "test_df.replace({'service': {'-': np.nan}}, inplace=True)\n",
    "\n",
    "# Use KNN imputation for fill missing values in service column\n",
    "service_encoder=joblib.load(r\"C:\\Users\\arind\\OneDrive\\Desktop\\Network IDS\\models\\service_encoder.pkl\")\n",
    "test_df['service'] = service_encoder.transform(test_df['service'].astype(str))\n",
    "\n",
    "imputer = KNNImputer(n_neighbors=7)\n",
    "test_df['service'] = imputer.fit_transform(test_df[['service']])"
   ]
  },
  {
   "cell_type": "code",
   "execution_count": 10,
   "id": "735043a4",
   "metadata": {},
   "outputs": [],
   "source": [
    "test_df['attack_cat'] = test_df['attack_cat'].apply(lambda x: x.strip().lower())\n",
    "\n",
    "attack_cat_encoder = LabelEncoder()\n",
    "\n",
    "test_df[\"attack_cat_encoded\"] = attack_cat_encoder.fit_transform(test_df[\"attack_cat\"])\n",
    "attack_cat_mapping = dict(zip(attack_cat_encoder.classes_, attack_cat_encoder.transform(attack_cat_encoder.classes_)))\n",
    "test_df.drop('attack_cat', axis=1, inplace=True)"
   ]
  },
  {
   "cell_type": "code",
   "execution_count": 12,
   "id": "7a737a1b",
   "metadata": {},
   "outputs": [],
   "source": [
    "proto_encoder=joblib.load(r\"C:\\Users\\arind\\OneDrive\\Desktop\\Network IDS\\models\\proto_encoder.pkl\")\n",
    "test_df[\"proto\"] = proto_encoder.transform(test_df[\"proto\"])"
   ]
  },
  {
   "cell_type": "code",
   "execution_count": 13,
   "id": "d0d7d19c",
   "metadata": {},
   "outputs": [],
   "source": [
    "state_encoder = joblib.load(r\"C:\\Users\\arind\\OneDrive\\Desktop\\Network IDS\\models\\state_encoder.pkl\")\n",
    "test_df[\"state\"] = state_encoder.transform(test_df[\"state\"])"
   ]
  },
  {
   "cell_type": "code",
   "execution_count": 16,
   "id": "5e057177",
   "metadata": {},
   "outputs": [],
   "source": [
    "test_df.to_csv(r\"C:\\Users\\arind\\OneDrive\\Desktop\\Network IDS\\data\\processed\\test_df_processed.csv\", index=False)"
   ]
  }
 ],
 "metadata": {
  "kernelspec": {
   "display_name": "network-ids_env",
   "language": "python",
   "name": "python3"
  },
  "language_info": {
   "codemirror_mode": {
    "name": "ipython",
    "version": 3
   },
   "file_extension": ".py",
   "mimetype": "text/x-python",
   "name": "python",
   "nbconvert_exporter": "python",
   "pygments_lexer": "ipython3",
   "version": "3.11.9"
  }
 },
 "nbformat": 4,
 "nbformat_minor": 5
}
